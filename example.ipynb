{
 "cells": [
  {
   "cell_type": "code",
   "execution_count": 1,
   "id": "48998cd8",
   "metadata": {},
   "outputs": [],
   "source": [
    "# !pip install pymysql"
   ]
  },
  {
   "cell_type": "code",
   "execution_count": 2,
   "id": "06400e81",
   "metadata": {},
   "outputs": [],
   "source": [
    "import pymysql"
   ]
  },
  {
   "cell_type": "markdown",
   "id": "632e3f90",
   "metadata": {},
   "source": [
    "Wait, until server be ready"
   ]
  },
  {
   "cell_type": "markdown",
   "id": "f14f5728",
   "metadata": {},
   "source": [
    "#### Connect server"
   ]
  },
  {
   "cell_type": "code",
   "execution_count": 3,
   "id": "6c8d2e95",
   "metadata": {},
   "outputs": [],
   "source": [
    "connector = pymysql.connect(\n",
    "    host = 'localhost',\n",
    "    user = 'root',\n",
    "    passwd = 'root'\n",
    ")\n",
    "cursor = connector.cursor()"
   ]
  },
  {
   "cell_type": "markdown",
   "id": "3dcfa972",
   "metadata": {},
   "source": [
    "#### Create database"
   ]
  },
  {
   "cell_type": "code",
   "execution_count": 4,
   "id": "72988c53",
   "metadata": {},
   "outputs": [],
   "source": [
    "cursor.execute(\"CREATE DATABASE ml\")\n",
    "cursor.close()\n",
    "connector.close()"
   ]
  },
  {
   "cell_type": "markdown",
   "id": "f53f5d02",
   "metadata": {},
   "source": [
    "#### Connect database"
   ]
  },
  {
   "cell_type": "code",
   "execution_count": 24,
   "id": "00848f19",
   "metadata": {},
   "outputs": [],
   "source": [
    "connector = pymysql.connect(\n",
    "    host = 'localhost',\n",
    "    user = 'root',\n",
    "    passwd = 'root',\n",
    "    database = 'ml',\n",
    "    autocommit = True\n",
    ")\n",
    "cursor = connector.cursor()"
   ]
  },
  {
   "cell_type": "markdown",
   "id": "b3926877",
   "metadata": {},
   "source": [
    "#### Create table"
   ]
  },
  {
   "cell_type": "code",
   "execution_count": 6,
   "id": "2f3d8164",
   "metadata": {},
   "outputs": [
    {
     "data": {
      "text/plain": [
       "0"
      ]
     },
     "execution_count": 6,
     "metadata": {},
     "output_type": "execute_result"
    }
   ],
   "source": [
    "query = \"CREATE TABLE IF NOT EXISTS test\"\n",
    "query += \"(id INTEGER, name VARCHAR(20), age INTEGER)\"\n",
    "cursor.execute(query)"
   ]
  },
  {
   "cell_type": "markdown",
   "id": "7b5dbc22",
   "metadata": {},
   "source": [
    "#### Add records to table"
   ]
  },
  {
   "cell_type": "code",
   "execution_count": 18,
   "id": "11674774",
   "metadata": {},
   "outputs": [
    {
     "data": {
      "text/plain": [
       "1"
      ]
     },
     "execution_count": 18,
     "metadata": {},
     "output_type": "execute_result"
    }
   ],
   "source": [
    "cursor.execute(\"INSERT INTO test VALUES (1, 'Taro', 20)\")\n",
    "cursor.execute(\"INSERT INTO test VALUES (2, 'Hanako', 30)\")\n"
   ]
  },
  {
   "cell_type": "markdown",
   "id": "f3bc6362",
   "metadata": {},
   "source": [
    "#### Read table"
   ]
  },
  {
   "cell_type": "code",
   "execution_count": 25,
   "id": "540a78bc",
   "metadata": {},
   "outputs": [
    {
     "name": "stdout",
     "output_type": "stream",
     "text": [
      "(1, 'Taro', 20)\n",
      "(2, 'Hanako', 30)\n"
     ]
    }
   ],
   "source": [
    "cursor.execute(\"SELECT * FROM test\")\n",
    "for row in cursor:\n",
    "    print(row)"
   ]
  }
 ],
 "metadata": {
  "kernelspec": {
   "display_name": "Python 3 (ipykernel)",
   "language": "python",
   "name": "python3"
  },
  "language_info": {
   "codemirror_mode": {
    "name": "ipython",
    "version": 3
   },
   "file_extension": ".py",
   "mimetype": "text/x-python",
   "name": "python",
   "nbconvert_exporter": "python",
   "pygments_lexer": "ipython3",
   "version": "3.8.8"
  }
 },
 "nbformat": 4,
 "nbformat_minor": 5
}
